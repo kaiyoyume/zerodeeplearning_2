{
  "nbformat": 4,
  "nbformat_minor": 0,
  "metadata": {
    "colab": {
      "provenance": [],
      "toc_visible": true,
      "authorship_tag": "ABX9TyNm5aJlcz+OdMqnQEHZ2t47",
      "include_colab_link": true
    },
    "kernelspec": {
      "name": "python3",
      "display_name": "Python 3"
    },
    "language_info": {
      "name": "python"
    },
    "accelerator": "GPU",
    "gpuClass": "standard"
  },
  "cells": [
    {
      "cell_type": "markdown",
      "metadata": {
        "id": "view-in-github",
        "colab_type": "text"
      },
      "source": [
        "<a href=\"https://colab.research.google.com/github/kaiyoyume/zerodeeplearning_2/blob/main/%EF%BC%92%E7%AB%A0%E3%80%80%E8%87%AA%E7%84%B6%E8%A8%80%E8%AA%9E%E3%81%A8%E5%8D%98%E8%AA%9E%E3%81%AE%E5%88%86%E6%95%A3%E8%A1%A8%E7%8F%BE.ipynb\" target=\"_parent\"><img src=\"https://colab.research.google.com/assets/colab-badge.svg\" alt=\"Open In Colab\"/></a>"
      ]
    },
    {
      "cell_type": "markdown",
      "source": [
        "#２章　自然言語と単語の分散表現"
      ],
      "metadata": {
        "id": "Q5-pmmkdrn0X"
      }
    },
    {
      "cell_type": "markdown",
      "source": [
        "##2.1 自然言語処理とは\n",
        "自然言語(Natural Language)：日本語や英語など、私たちが普段使っている言葉。  \n",
        "\n",
        "自然言語処理（Natural Language Processing：NLP）:自然言語をコンピュータに理解させる技術（分野）"
      ],
      "metadata": {
        "id": "mWxXeJF_rzRd"
      }
    },
    {
      "cell_type": "markdown",
      "source": [
        "##2.1.1 単語の意味\n",
        "私たちの言葉は「文字」によって構成される。  \n",
        "私たちの言葉の意味は「単語」によって構成される。  \n",
        "単語は、意味の最小単位。  \n",
        "そのため、自然言語をコンピュータに理解させるためには、「単語の意味」を理解させることが重要。  \n",
        "\n",
        "「単語の意味」をうまく捉えた表現方法\n",
        "\n",
        "\n",
        "*   シソーラスによる手法\n",
        "*   カウントベースによる手法\n",
        "*   推論ベースの手法(word2vec) ※次章\n",
        "\n"
      ],
      "metadata": {
        "id": "wd0DwSihJEmj"
      }
    },
    {
      "cell_type": "markdown",
      "source": [
        "##2.2 シソーラス\n",
        "シソーラス(thesaurus)とは（基本的には）、類似辞書である。   \n",
        "「同じ意味の単語（同義語）」や「意味の似た単語（類似語）」が同じグループに分類されている。\n",
        "\n",
        "単語の意味を人手によって定義する。\n"
      ],
      "metadata": {
        "id": "JTr7MXhDr7Li"
      }
    },
    {
      "cell_type": "markdown",
      "source": [
        "同義語の例\n",
        "\n",
        "`car` = `auto` `automobile` `machine` `motorcar`\n",
        "\n",
        "\n",
        "\n"
      ],
      "metadata": {
        "id": "mKxpdDpvDAEz"
      }
    },
    {
      "cell_type": "markdown",
      "source": [
        "###2.2.1 WordNet\n",
        "自然言語処理の分野において、最も有名なシソーラスは**WordNet**である。"
      ],
      "metadata": {
        "id": "B6Eda-j_sQV0"
      }
    },
    {
      "cell_type": "markdown",
      "source": [
        "###2.2.2 シソーラスの問題点\n",
        "\n",
        "*   時代の変化に対応するのが困難\n",
        "*   人の作業コストが高い\n",
        "*   単語の細かなニュアンスを表現できない\n",
        "\n",
        "\n"
      ],
      "metadata": {
        "id": "1FaOtgbVsaeS"
      }
    },
    {
      "cell_type": "markdown",
      "source": [
        "##2.3 カウントベースの手法\n",
        "カウントベースの手法に進むにあたって、コーパス(corpus)を使う。  \n",
        "コーパスとは、自然言語処理の研究やアプリケーションのために目的をもって種集されたテキストデータ。"
      ],
      "metadata": {
        "id": "FJgT8VavshoO"
      }
    },
    {
      "cell_type": "markdown",
      "source": [
        "###2.3.1 Pythonによるコーパスの下準備\n",
        "コーパスの有名な例：WikipediaやGoogle Newsなどのテキストデータ、シェイクストピアや夏目漱石など、偉大な作家の作品群\n",
        "\n",
        "まず初めに１文からなる単純なテキストをコーパスとして利用する。  \n",
        "そのあとで、より実用的なコーパスを扱う。"
      ],
      "metadata": {
        "id": "MGV-Yodis26x"
      }
    },
    {
      "cell_type": "code",
      "execution_count": null,
      "metadata": {
        "id": "o5--NWGZrdSR"
      },
      "outputs": [],
      "source": [
        "#コーパスとして利用するサンプルの文章\n",
        "\n",
        "text = 'You say goodbye and I say hello.'"
      ]
    },
    {
      "cell_type": "markdown",
      "source": [
        "これで、元の文章を単語のリストとして利用できるように分割する。"
      ],
      "metadata": {
        "id": "09X1HzbYusya"
      }
    },
    {
      "cell_type": "code",
      "source": [
        "#分割のための下準備\n",
        "\n",
        "text = text.lower() #すべての文字を小文字に変換\n",
        "text= text.replace('.', ' .')\n",
        "text"
      ],
      "metadata": {
        "colab": {
          "base_uri": "https://localhost:8080/",
          "height": 35
        },
        "id": "48ZJWcyttzYJ",
        "outputId": "2dafd564-d5da-4507-face-c8e7a5aa4e8b"
      },
      "execution_count": null,
      "outputs": [
        {
          "output_type": "execute_result",
          "data": {
            "text/plain": [
              "'you say goodbye and i say hello .'"
            ],
            "application/vnd.google.colaboratory.intrinsic+json": {
              "type": "string"
            }
          },
          "metadata": {},
          "execution_count": 4
        }
      ]
    },
    {
      "cell_type": "code",
      "source": [
        "words = text.split(' ') #単語単位に分割\n",
        "words"
      ],
      "metadata": {
        "colab": {
          "base_uri": "https://localhost:8080/"
        },
        "id": "jMF6nrR7uEp9",
        "outputId": "102ddf98-c43f-462f-e94d-53df490ce407"
      },
      "execution_count": null,
      "outputs": [
        {
          "output_type": "execute_result",
          "data": {
            "text/plain": [
              "['you', 'say', 'goodbye', 'and', 'i', 'say', 'hello', '.']"
            ]
          },
          "metadata": {},
          "execution_count": 5
        }
      ]
    },
    {
      "cell_type": "markdown",
      "source": [
        "単語IDと単語の対応表をPythonのディクショナリで作成する。"
      ],
      "metadata": {
        "id": "tQg9rAtGw5Aq"
      }
    },
    {
      "cell_type": "code",
      "source": [
        "word_to_id = {} #単語IDから単語への変換表\n",
        "id_to_word = {} #単語から単語IDへの変換表\n",
        "\n",
        "for word in words:\n",
        "  if word not in word_to_id:\n",
        "    new_id = len(word_to_id)\n",
        "    word_to_id[word] = new_id\n",
        "    id_to_word[new_id] = word"
      ],
      "metadata": {
        "id": "IhEGUq1qulFO"
      },
      "execution_count": null,
      "outputs": []
    },
    {
      "cell_type": "code",
      "source": [
        "id_to_word"
      ],
      "metadata": {
        "colab": {
          "base_uri": "https://localhost:8080/"
        },
        "id": "hq6lAKB9vVvB",
        "outputId": "06265b7b-6b03-46af-cba7-f932546e0002"
      },
      "execution_count": null,
      "outputs": [
        {
          "output_type": "execute_result",
          "data": {
            "text/plain": [
              "{0: 'you', 1: 'say', 2: 'goodbye', 3: 'and', 4: 'i', 5: 'hello', 6: '.'}"
            ]
          },
          "metadata": {},
          "execution_count": 7
        }
      ]
    },
    {
      "cell_type": "code",
      "source": [
        "word_to_id"
      ],
      "metadata": {
        "colab": {
          "base_uri": "https://localhost:8080/"
        },
        "id": "LC-gRIfGvZSf",
        "outputId": "9393aa9f-223e-4ab7-9b89-7dd1cb6529e9"
      },
      "execution_count": null,
      "outputs": [
        {
          "output_type": "execute_result",
          "data": {
            "text/plain": [
              "{'you': 0, 'say': 1, 'goodbye': 2, 'and': 3, 'i': 4, 'hello': 5, '.': 6}"
            ]
          },
          "metadata": {},
          "execution_count": 8
        }
      ]
    },
    {
      "cell_type": "markdown",
      "source": [
        "このディクショナリを使えば、単語から単語IDを検索したり、逆に単語IDから単語を探索したりすることができる。"
      ],
      "metadata": {
        "id": "zN2p4RApwuuR"
      }
    },
    {
      "cell_type": "code",
      "source": [
        "id_to_word[1]"
      ],
      "metadata": {
        "colab": {
          "base_uri": "https://localhost:8080/",
          "height": 35
        },
        "id": "QgYNuwxBva2t",
        "outputId": "525f36b3-4ef0-412a-a988-77bee2b45ccb"
      },
      "execution_count": null,
      "outputs": [
        {
          "output_type": "execute_result",
          "data": {
            "text/plain": [
              "'say'"
            ],
            "application/vnd.google.colaboratory.intrinsic+json": {
              "type": "string"
            }
          },
          "metadata": {},
          "execution_count": 9
        }
      ]
    },
    {
      "cell_type": "code",
      "source": [
        "word_to_id['hello']"
      ],
      "metadata": {
        "id": "NFgANFesvdvT"
      },
      "execution_count": null,
      "outputs": []
    },
    {
      "cell_type": "markdown",
      "source": [
        "最後に、「単語のリスト」を「単語のIDのリスト」にPythonの内包表記を使って、変換する。\n",
        "そして、それをNumpy配列に変換する。"
      ],
      "metadata": {
        "id": "EhiOHc_0vwed"
      }
    },
    {
      "cell_type": "code",
      "source": [
        "import numpy as np\n",
        "corpus = [word_to_id[w] for w in words]\n",
        "corpus = np.array(corpus)\n",
        "corpus"
      ],
      "metadata": {
        "colab": {
          "base_uri": "https://localhost:8080/"
        },
        "id": "1VdfQ0LCvgw_",
        "outputId": "ddad8c92-8f54-48b6-a117-8b0b98d9d578"
      },
      "execution_count": null,
      "outputs": [
        {
          "output_type": "execute_result",
          "data": {
            "text/plain": [
              "array([0, 1, 2, 3, 4, 1, 5, 6])"
            ]
          },
          "metadata": {},
          "execution_count": 10
        }
      ]
    },
    {
      "cell_type": "markdown",
      "source": [
        "これで、コーパスを利用する下準備が整った。  \n",
        "以上の処理をpreprocess()という名前の関数でまとめて実装する。\n",
        "\n",
        "#### preprocess関数"
      ],
      "metadata": {
        "id": "Is6BC8COwka8"
      }
    },
    {
      "cell_type": "code",
      "source": [
        "def preprocess(text):\n",
        "  text = text.lower()\n",
        "  text = text.replace('.', ' .')\n",
        "  words = text.split(' ')\n",
        "\n",
        "  word_to_id = {}\n",
        "  id_to_word = {}\n",
        "  for word in words:\n",
        "    if word not in word_to_id:\n",
        "      new_id = len(word_to_id)\n",
        "      word_to_id[word] = new_id\n",
        "      id_to_word[new_id] = word\n",
        "  \n",
        "  corpus = np.array([word_to_id[w] for w in words])\n",
        "\n",
        "  return corpus, word_to_id, id_to_word"
      ],
      "metadata": {
        "id": "uXifHeRTwUlW"
      },
      "execution_count": null,
      "outputs": []
    },
    {
      "cell_type": "code",
      "source": [
        "text = 'You say goodbye and I say hello.'\n",
        "corpus, word_to_id, id_to_word=preprocess(text)"
      ],
      "metadata": {
        "id": "nKyVYsaVTM0q"
      },
      "execution_count": null,
      "outputs": []
    },
    {
      "cell_type": "markdown",
      "source": [
        "これでコーパスの前処理が終わった。"
      ],
      "metadata": {
        "id": "QiUVPQnay3ya"
      }
    },
    {
      "cell_type": "markdown",
      "source": [
        "###2.3.2 単語の分散処理  \n",
        "「単語の意味」を的確に捉えたベクトル表現を、自然言語処理の分野では、**単語の分散表現**と呼ぶ。  \n",
        "単語の分散表現は、単語を固定長のベクトルで表現する。"
      ],
      "metadata": {
        "id": "qEcxbN0bTeo7"
      }
    },
    {
      "cell_type": "markdown",
      "source": [
        "###2.3.3 分布仮説\n",
        "分布仮説（distributional hypothesis）・・・「単語の意味は、周囲の単語によって形成される」\n",
        "\n",
        "コンテキスト・・・（注目する単語に対して）その周囲に存在する単語  \n",
        "ウィンドウサイズ(window size)・・・コンテキストのサイズ"
      ],
      "metadata": {
        "id": "KWpntJuZUThs"
      }
    },
    {
      "cell_type": "markdown",
      "source": [
        "### 2.3.4 共起行列\n",
        "共起行列・・・自然言語処理において、文書や文章中に含まれる単語の出現頻度を表現する行列。\n",
        "\n",
        "分布仮説に基づいて、単語をベクトルで表す方法を考える。  \n",
        "素直な方法は、ある単語に着目した場合、その周囲にどのような単語がどれだけ現れるのかをカウントし。それを集計する。  \n",
        "ここでは、これをカウントベースの手法と呼ぶ。  \n",
        "\n",
        "まずコーパスの下準備をする。"
      ],
      "metadata": {
        "id": "0VksgHy1VbHl"
      }
    },
    {
      "cell_type": "code",
      "source": [
        "import numpy as np\n",
        "\n",
        "text = 'You say goodbye and I say hello.'\n",
        "corpus, word_to_id, id_to_word=preprocess(text)"
      ],
      "metadata": {
        "id": "8IqjtqEoTUVs"
      },
      "execution_count": null,
      "outputs": []
    },
    {
      "cell_type": "code",
      "source": [
        "print(corpus)"
      ],
      "metadata": {
        "colab": {
          "base_uri": "https://localhost:8080/"
        },
        "id": "ARVJAx93nyZD",
        "outputId": "18b79d0e-7c83-4765-b9ed-98662a420819"
      },
      "execution_count": null,
      "outputs": [
        {
          "output_type": "stream",
          "name": "stdout",
          "text": [
            "[0 1 2 3 4 1 5 6]\n"
          ]
        }
      ]
    },
    {
      "cell_type": "code",
      "source": [
        "print(id_to_word)"
      ],
      "metadata": {
        "colab": {
          "base_uri": "https://localhost:8080/"
        },
        "id": "BJdfvw9on1D4",
        "outputId": "51571b08-ccc3-4cfc-e9eb-db61150e3346"
      },
      "execution_count": null,
      "outputs": [
        {
          "output_type": "stream",
          "name": "stdout",
          "text": [
            "{0: 'you', 1: 'say', 2: 'goodbye', 3: 'and', 4: 'i', 5: 'hello', 6: '.'}\n"
          ]
        }
      ]
    },
    {
      "cell_type": "markdown",
      "source": [
        "上の結果より、ここでは語彙数が全部で7個あることが分かる。  \n",
        "それでは、それぞれの単語について、そのコンテキストに含まれる単語の頻度を数えていく。  \n",
        "ここでは、ウィンドウサイズを１とする。"
      ],
      "metadata": {
        "id": "qRc87Esqn8ud"
      }
    },
    {
      "cell_type": "markdown",
      "source": [
        "図2-7のテーブルは、すべての単語に対して、共起する単語をまとめたものである。  \n",
        "このテーブルの各行が、該当する単語のベクトルに対応する。  \n",
        "なお、図2-7のテーブルは行列の形をしているため、共起行列(co-occurence matrix)と呼ばれる。"
      ],
      "metadata": {
        "id": "02H45fuqmQaE"
      }
    },
    {
      "cell_type": "code",
      "source": [
        "text = 'You say goodbye and I say hello.'"
      ],
      "metadata": {
        "id": "RwwUW5vAOTh_"
      },
      "execution_count": null,
      "outputs": []
    },
    {
      "cell_type": "markdown",
      "source": [
        "　![スクリーンショット 2023-05-25 17.42.04.png](data:image/png;base64,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)\n"
      ],
      "metadata": {
        "id": "cQb2vkU_EAkQ"
      }
    },
    {
      "cell_type": "markdown",
      "source": [
        "図： 各単語について、そのコンテキストに含まれる単語に頻度をカウントし、テーブルにまとめる"
      ],
      "metadata": {
        "id": "m-94LvQhmBZO"
      }
    },
    {
      "cell_type": "markdown",
      "source": [
        "#### create_co_matrix関数"
      ],
      "metadata": {
        "id": "jyVoXyPk8GYl"
      }
    },
    {
      "cell_type": "code",
      "source": [
        "def create_co_matrix(corpus, vocab_size, window_size=1):\n",
        "  corpus_size = len(corpus)\n",
        "  co_matrix = np.zeros((vocab_size, vocab_size), dtype=np.int32)\n",
        "\n",
        "  for idx, word_id in enumerate(corpus):\n",
        "    for i in range(1, window_size + 1):\n",
        "      left_idx = idx - i\n",
        "      right_idx = idx + i\n",
        "\n",
        "      if left_idx >= 0:\n",
        "        left_word_id = corpus[left_idx]\n",
        "        co_matrix[word_id, left_word_id] += 1\n",
        "\n",
        "      if right_idx < corpus_size:\n",
        "        right_word_id = corpus[right_idx]\n",
        "        co_matrix[word_id, right_word_id] += 1\n",
        "\n",
        "  return co_matrix"
      ],
      "metadata": {
        "id": "v39jAZ0_ge0f"
      },
      "execution_count": null,
      "outputs": []
    },
    {
      "cell_type": "code",
      "source": [
        "import numpy as np\n",
        "text = \"You say goodbye and I say hello.\"\n",
        "corpus, word_to_id, id_to_word = preprocess(text)\n",
        "vocab_size = len(word_to_id)\n",
        "C = create_co_matrix(corpus, vocab_size)\n",
        "C"
      ],
      "metadata": {
        "colab": {
          "base_uri": "https://localhost:8080/"
        },
        "id": "hAQf6Vp0eiq1",
        "outputId": "625a4570-7ecd-4786-e155-c4a70a8950f5"
      },
      "execution_count": null,
      "outputs": [
        {
          "output_type": "execute_result",
          "data": {
            "text/plain": [
              "array([[0, 1, 0, 0, 0, 0, 0],\n",
              "       [1, 0, 1, 0, 1, 1, 0],\n",
              "       [0, 1, 0, 1, 0, 0, 0],\n",
              "       [0, 0, 1, 0, 1, 0, 0],\n",
              "       [0, 1, 0, 1, 0, 0, 0],\n",
              "       [0, 1, 0, 0, 0, 0, 1],\n",
              "       [0, 0, 0, 0, 0, 1, 0]], dtype=int32)"
            ]
          },
          "metadata": {},
          "execution_count": 17
        }
      ]
    },
    {
      "cell_type": "markdown",
      "source": [
        "Cは、すべての単語に対して、共起する単語をまとめたものである。\n",
        "このテーブルの各行が、該当する単語のベクトルに対応する。\n",
        "\n",
        "例えば、0行目は'you'、１行目は'say'、6行目は'.'に対応している。\n",
        "\n",
        "Cは行列の形をしているため、共起行列(co-occurence matrix)と呼ばれる。\n",
        "\n",
        "create_co_matrix関数を使えば、コーパスがどれだけ大きくなったとしても、自動で共起行列を作ることができる。"
      ],
      "metadata": {
        "id": "SMg7L_QUFx-r"
      }
    },
    {
      "cell_type": "markdown",
      "source": [
        "###2.3.5 ベクトル間の類似度\n",
        "共起行列によって、単語をベクトルで表すことができた。\n",
        "続いてベクトル間の類似度を計測していく。\n",
        "\n",
        "ベクトル間の類似度を計測するには、さまざまな方法が考えられる。  \n",
        "たとえば、ベクトルの内積やユークリッド距離などが代表例に挙げられる。  \n",
        "保単語のベクトル表現の類似度に関しては、コサイン類似度（cosine similarity）がよく用いられる。  \n",
        "コサイン類似度は、$x=(x_1,x_2,x_3,...,x_n)$と$y=(y_1,y_2,y_3,...,y_n)$の２つのベクトルがあとき、次の式で定義される。  \n",
        "\n",
        "$$\n",
        "similarity(x,y)=\\frac{x*y}{||x||||y||}=\\frac{x_1y_1+...+x_ny_n}{\\sqrt{x_1^2+...x_n^2}\\sqrt{y_1^2+...y_n^2}}\n",
        "$$\n",
        "\n",
        "コサイン類似度を実装する。\n",
        "#### cos_similarity関数\n"
      ],
      "metadata": {
        "id": "qj1qoa91pUhL"
      }
    },
    {
      "cell_type": "code",
      "source": [
        "def cos_similarity(x,y,eps=1e-8):\n",
        "  nx = x / np.sqrt(np.sum(x**2) + eps) #xの正規化\n",
        "  ny = y / np.sqrt(np.sum(y**2) + eps) #yの正規化\n",
        "  return np.dot(nx, ny)"
      ],
      "metadata": {
        "id": "pIDcTXd4pWV2"
      },
      "execution_count": null,
      "outputs": []
    },
    {
      "cell_type": "markdown",
      "source": [
        "この関数を用いると、単語ベクトルの類似度は次にように求めることができる。  \n",
        "ここでは、「you」と「i(=I)」の類似度を求めてみる。  "
      ],
      "metadata": {
        "id": "TNmsQR34s_uf"
      }
    },
    {
      "cell_type": "code",
      "source": [
        "import numpy as np\n",
        "text = \"You say goodbye and I say hello.\"\n",
        "corpus, word_to_id, id_to_word = preprocess(text)\n",
        "vocab_size = len(word_to_id)\n",
        "C = create_co_matrix(corpus, vocab_size)\n",
        "\n",
        "c0 = C[word_to_id['you']] #「you」の単語ベクトル\n",
        "c1= C[word_to_id['i']]     #「i」の単語ベクトル\n",
        "print(cos_similarity(c0, c1))"
      ],
      "metadata": {
        "colab": {
          "base_uri": "https://localhost:8080/"
        },
        "id": "O3iidKtss9Wy",
        "outputId": "7f6d4be6-1eb5-4dba-c9be-6ed41663c213"
      },
      "execution_count": null,
      "outputs": [
        {
          "output_type": "stream",
          "name": "stdout",
          "text": [
            "0.7071067758832467\n"
          ]
        }
      ]
    },
    {
      "cell_type": "markdown",
      "source": [
        "「you」と「i」のコサイン類似度は、0.70...という結果になった。  \n",
        "コサイン類似度は、１から−１までを取るので、この値は、比較的高い値(類似性がある)と言えそう。"
      ],
      "metadata": {
        "id": "pc-DDMvByV4P"
      }
    },
    {
      "cell_type": "markdown",
      "source": [
        "###2.3.6 類似単語のランキング表示\n",
        "コサイン類似度の関数を使って、ある単語がクエリとして与えられた時に、そのクエリに対して類似した単語を上位から順に表示する関数を作りたい。  \n",
        "ここでは、その実数をmost_similar()と呼び、次のような引数で実装する。\n",
        "\n",
        "\n",
        "*   query 　　　クエリ（単語）\n",
        "*   word_to_id 　単語から単語IDへのディクショナリ \n",
        "*   id_to_word 　単語IDから単語へのディクショナリ\n",
        "*   word_matrix 単語ベクトルをまとめた行列、各行に対応する単語のベクトルが格納されていることを想定する。  \n",
        "*   top 　　　　上位何位まで表示するか\n",
        "\n"
      ],
      "metadata": {
        "id": "2Ot_eJKxyrnR"
      }
    },
    {
      "cell_type": "markdown",
      "source": [
        "####  most_similar関数"
      ],
      "metadata": {
        "id": "fcFhLfr070Us"
      }
    },
    {
      "cell_type": "code",
      "source": [
        "def most_similar(query, word_to_id, id_to_word, word_matrix, top=5):\n",
        "  #①クエリを取り出す\n",
        "  if query not in word_to_id:\n",
        "    print('%s is not found' % query)\n",
        "    return\n",
        "\n",
        "  print('\\n[query] ' + query)\n",
        "  query_id = word_to_id[query]\n",
        "  query_vec = word_matrix[query_id]\n",
        "  \n",
        "  #②コサイン類似度の算出\n",
        "  vocab_size = len(id_to_word)\n",
        "  similarity = np.zeros(vocab_size)\n",
        "  for i in range(vocab_size):\n",
        "    similarity[i] = cos_similarity(word_matrix[i], query_vec)\n",
        "  \n",
        "  #③コサイン類似度の結果から、その値を高い順に出力\n",
        "  count = 0\n",
        "  for i in (-1*similarity).argsort():\n",
        "    if id_to_word[i] == query:\n",
        "      continue\n",
        "    print(' %s: %s' % (id_to_word[i], similarity[i]))\n",
        "\n",
        "    count += 1\n",
        "    if count >= top:\n",
        "      return"
      ],
      "metadata": {
        "id": "qlQUZYVvvFAH"
      },
      "execution_count": null,
      "outputs": []
    },
    {
      "cell_type": "code",
      "source": [
        "text = 'You say goodbye and I say hello.'\n",
        "corpus, word_to_id, id_to_word = preprocess(text)\n",
        "vocab_size = len(word_to_id)\n",
        "C = create_co_matrix(corpus, vocab_size)\n",
        "\n",
        "most_similar('you', word_to_id, id_to_word, C, top=5)"
      ],
      "metadata": {
        "colab": {
          "base_uri": "https://localhost:8080/"
        },
        "id": "m4vndrH39yG-",
        "outputId": "2da4e107-62f1-40ea-9c9d-678a0bf71813"
      },
      "execution_count": null,
      "outputs": [
        {
          "output_type": "stream",
          "name": "stdout",
          "text": [
            "\n",
            "[query] you\n",
            " goodbye: 0.7071067758832467\n",
            " i: 0.7071067758832467\n",
            " hello: 0.7071067758832467\n",
            " say: 0.0\n",
            " and: 0.0\n"
          ]
        }
      ]
    },
    {
      "cell_type": "markdown",
      "source": [
        "「you」という単語のクエリに対して類似単語を上位から順に５つ表示している。 各単語の隣に、コサイン類似度の値を表示している。"
      ],
      "metadata": {
        "id": "_j38h2LxGexQ"
      }
    },
    {
      "cell_type": "markdown",
      "source": [
        "##2.4 カウントベース手法の改善\n",
        "前節では、単語の共起行列を作った。それによって単語をベクトルで表すことには成功した。  \n",
        "しかし、その共起行列にはまだまだ改善すべきところがある。  \n"
      ],
      "metadata": {
        "id": "rynsEj4z1ae3"
      }
    },
    {
      "cell_type": "markdown",
      "source": [
        "###2.4.1 相互情報量\n",
        "前節の共起行列の要素は、２つの単語が共起した回数を表している。  \n",
        "しかし、高頻度単語（多く出現する単語）に目を向けると、あまり良い性質を持たないことが分かる。  \n",
        "\n",
        "たとえば、あるコーパスの「the」と「car」の共起について。  \n",
        "「...the car...」というフレーズが多くみられるため、その共起する回数は大きな値になる。  \n",
        "一方、「car」と「drive」という単語には明らかに強い関連性がある。  \n",
        "しかし、単に出現回数だけをみてしまうと、「car」は「drive」よりも「the」の方に強い関連性を持ってしまう。  \n",
        "つまりこれは「the」という単語が高頻度な単語であるがゆえに、「car」と強い関連性を持つように評価されてしまう。  \n",
        "\n",
        "その問題を解決するために、**相互情報量**（Pointwise Mutual Information）と呼ばれる指標が使われる（以降、PMIと略記）。  \n",
        "PMIは、xとyという確率変数に対して次の式で定義される。  \n"
      ],
      "metadata": {
        "id": "PwaUFsBsEkWZ"
      }
    },
    {
      "cell_type": "markdown",
      "source": [
        "$$\n",
        "PMI(x,y)=\\log_2\\frac{P(x,y)}{P(x)P(y)}\n",
        "$$"
      ],
      "metadata": {
        "id": "gWW0ARi9Fdxf"
      }
    },
    {
      "cell_type": "markdown",
      "source": [
        "P(x)はxが起こる確率、P(y)はyが起こる確率を表す。  \n",
        "P（x、y）は、xとyが同時に起こる確率を表す。  \n",
        "このPMIは、その値が高いほど関連性が高いことを示す。"
      ],
      "metadata": {
        "id": "eH3b6VXUukYu"
      }
    },
    {
      "cell_type": "markdown",
      "source": [
        "PMIは、２つの単語で共起する回数が0の場合、$log_2{0}=-∞$となってしまう。\n",
        "実践上では正の相互情報量(Positive PMI)を使う（以降PPMIと略記）。\n",
        "\n",
        "$$\n",
        "PPMI(x,y)= max(0, (PMI(x,y))\n",
        "$$\n",
        "\n",
        "PMIがマイナスのときは0として扱い、単語感の関連度を０以上の実数で表す。\n"
      ],
      "metadata": {
        "id": "tfNMZaVE5F5I"
      }
    },
    {
      "cell_type": "markdown",
      "source": [
        "#### ppmi関数\n",
        "共起行列だけから、PPMI行列を求める簡易的な実装"
      ],
      "metadata": {
        "id": "Fy7G7kSNvh_6"
      }
    },
    {
      "cell_type": "code",
      "source": [
        "def ppmi(C, verbose=False, eps=1e-8): #C：共起行列、verbose：進行状況を出力するかどうか、\n",
        "  M = np.zeros_like(C, dtype=np.float32)\n",
        "  N = np.sum(C)\n",
        "  S = np.sum(C, axis=0)\n",
        "  total = C.shape[0] * C.shape[1]\n",
        "  cnt = 0\n",
        "\n",
        "  for i in range(C.shape[0]):\n",
        "    for j in range(C.shape[1]):\n",
        "      pmi = np.log2(C[i,j] * N / (S[j]*S[i]) + eps)\n",
        "      M[i,j] = max(0,pmi) #共起回数が0の場合に、log0　=　-∞となるを防ぐために性の相互情報量を使う。PMIが-のときは０として扱う。\n",
        "\n",
        "      if verbose:\n",
        "        cnt += 1\n",
        "      \n",
        "      if cnt % (total//100 + 1) == 0:\n",
        "        print('%.lf%% done' % (100*cnt/total))\n",
        "  return M"
      ],
      "metadata": {
        "id": "PSLo3vkPFe80"
      },
      "execution_count": null,
      "outputs": []
    },
    {
      "cell_type": "markdown",
      "source": [
        "共起行列のPPMI行列への変換を実装"
      ],
      "metadata": {
        "id": "IHHYMGpf1bK7"
      }
    },
    {
      "cell_type": "code",
      "source": [
        "text = 'You say goodbye and I say hello.'\n",
        "corpus, word_to_id, id_to_word = preprocess(text)\n",
        "vocab_size = len(word_to_id)\n",
        "C = create_co_matrix(corpus, vocab_size)\n",
        "W = ppmi(C)\n",
        "\n",
        "np.set_printoptions(precision=3) #有効桁3桁で表示\n",
        "print('covariance matrix')\n",
        "print(C)\n",
        "print('-'*50)\n",
        "print('PPMI')\n",
        "print(W)"
      ],
      "metadata": {
        "colab": {
          "base_uri": "https://localhost:8080/"
        },
        "id": "g452aPHiW_M8",
        "outputId": "9e72c879-85d9-4f00-92ff-68e8eb601a98"
      },
      "execution_count": null,
      "outputs": [
        {
          "output_type": "stream",
          "name": "stdout",
          "text": [
            "0% done\n",
            "0% done\n",
            "0% done\n",
            "0% done\n",
            "0% done\n",
            "0% done\n",
            "0% done\n",
            "0% done\n",
            "0% done\n",
            "0% done\n",
            "0% done\n",
            "0% done\n",
            "0% done\n",
            "0% done\n",
            "0% done\n",
            "0% done\n",
            "0% done\n",
            "0% done\n",
            "0% done\n",
            "0% done\n",
            "0% done\n",
            "0% done\n",
            "0% done\n",
            "0% done\n",
            "0% done\n",
            "0% done\n",
            "0% done\n",
            "0% done\n",
            "0% done\n",
            "0% done\n",
            "0% done\n",
            "0% done\n",
            "0% done\n",
            "0% done\n",
            "0% done\n",
            "0% done\n",
            "0% done\n",
            "0% done\n",
            "0% done\n",
            "0% done\n",
            "0% done\n",
            "0% done\n",
            "0% done\n",
            "0% done\n",
            "0% done\n",
            "0% done\n",
            "0% done\n",
            "0% done\n",
            "0% done\n",
            "covariance matrix\n",
            "[[0 1 0 0 0 0 0]\n",
            " [1 0 1 0 1 1 0]\n",
            " [0 1 0 1 0 0 0]\n",
            " [0 0 1 0 1 0 0]\n",
            " [0 1 0 1 0 0 0]\n",
            " [0 1 0 0 0 0 1]\n",
            " [0 0 0 0 0 1 0]]\n",
            "--------------------------------------------------\n",
            "PPMI\n",
            "[[0.    1.807 0.    0.    0.    0.    0.   ]\n",
            " [1.807 0.    0.807 0.    0.807 0.807 0.   ]\n",
            " [0.    0.807 0.    1.807 0.    0.    0.   ]\n",
            " [0.    0.    1.807 0.    1.807 0.    0.   ]\n",
            " [0.    0.807 0.    1.807 0.    0.    0.   ]\n",
            " [0.    0.807 0.    0.    0.    0.    2.807]\n",
            " [0.    0.    0.    0.    0.    2.807 0.   ]]\n"
          ]
        }
      ]
    },
    {
      "cell_type": "markdown",
      "source": [
        "これで、共起行列をPPMI行列に変換することができた。  \n",
        "このとき、PPMI行列の各要素は0以上の実数値である。  \n",
        "相互情報量を使い、より良い指標からなる行列ーより良い単語ベクトルーを手にできた。\n",
        "\n",
        "しかし、このPPMI行列にも、まだ大きい問題がある。  \n",
        "\n",
        "それは、コーパスの語彙数が増えるにつれて、各単語のベクトルの次元数も増えていくという問題である。  \n",
        "たとえば、コーパスに含まれる語彙数が10万に達すれば、そのベクトルの次元数も同様に10万になる。  \n",
        "\n",
        "また、この行列の中身を以てみると、その要素の多くは０であることがわかる。  \n",
        "これは、ベクトルのほとんどの要素が需要でない、つまり、ベクトルの各要素の持つ”重要度”は低いということを意味する。  \n",
        "\n",
        "そのようなベクトルはノイズに弱く、頑健性に乏しい。\n",
        "\n",
        "こういった問題に対してよく行われるのが、ベクトルの次元削減である。"
      ],
      "metadata": {
        "id": "nGFJebe85eDv"
      }
    },
    {
      "cell_type": "markdown",
      "source": [
        "###2.4.2 次元削減\n",
        "次元削減(dimensionality reduction)は、文字どおり、ベクトルの次元を削減する手法を指す。  \n",
        "ただし、単に削減するのではなく、”重要な情報”をできるだけ残した上で削減するというところがポイントである。  \n",
        "\n"
      ],
      "metadata": {
        "id": "6Gzub1B5ctor"
      }
    },
    {
      "cell_type": "markdown",
      "source": [
        "次元削減を行う方法はいくつかあるが、ここでは**特異値分解**(Singular Value Decomposition：SVD)を使った次元削減を行う。  \n",
        "SVDは、任意の行列を３つの行列の積へと分解する。  \n",
        "数式で書くと、次のように表される。  \n",
        "$$\n",
        "X = USV^T\n",
        "$$\n",
        "\n",
        "UとVは直行行列であり、その列ベクトルはお互いに直交する。  \n",
        "また、Sは対角行列であり、これは対角成分以外はすべて０の行列である。\n",
        "\n",
        "直交行列のUは、何らかの空間の軸（基底）を形成している。  \n",
        "このUという行列を「単語空間」として扱う。\n",
        "  \n",
        "また、Sは対角行列で、この対角成分には、「特異値」というものが大きい順に並んでいる。\n",
        "特異値とは、簡単に言えば、「対応する軸」の重要度と見なすことができる。\n",
        "\n",
        "そこで、重要でない要素を削ることが考えられる。\n",
        "\n",
        "行列Sの特異値が小さいものは重要度が低いので、行列Uから余分な列ベクトルを削ることで、元の行列を近似することができる。\n",
        "\n",
        "これを「単語のPPMI行列」に当てはめると、行列Xの各行には対応する単語IDの単語ベクトルが格納されており、それらの単語ベクトルが行列U'として次元削減されたベクトルで表現されることになる。\n"
      ],
      "metadata": {
        "id": "TsYrG2gu73Mx"
      }
    },
    {
      "cell_type": "markdown",
      "source": [
        "###2.4.3 SVDによる次元削減\n",
        "Pythonで実際に、SVDを行ってみる。  \n",
        "このSVDはNumpyのlinalgモジュールにあるsvdというメソッドで実行できる。  \n",
        "ちなみに、linalgとはlinear algebra(線形代数)の略称である。  \n",
        "\n",
        "それでは、共起行列を作り、PPMI行列に変換し、それに対してSVDを適用する。"
      ],
      "metadata": {
        "id": "PPEoH9PO-F48"
      }
    },
    {
      "cell_type": "code",
      "source": [
        "import numpy as np\n",
        "import matplotlib.pyplot as plt\n",
        "\n",
        "\n",
        "text = 'You say goodbye and I say hello.'\n",
        "corpus, word_to_id, id_to_word = preprocess(text)\n",
        "vocab_size = len(id_to_word)\n",
        "C = create_co_matrix(corpus, vocab_size, window_size=1)\n",
        "W = ppmi(C)\n",
        "\n",
        "# SVD\n",
        "U, S, V = np.linalg.svd(W)  #UにSVDによって変換された密なベクトル表現が格納されている。\n",
        "\n",
        "np.set_printoptions(precision=3)  # 有効桁３桁で表示"
      ],
      "metadata": {
        "id": "EcMEk1s6NUr-",
        "colab": {
          "base_uri": "https://localhost:8080/"
        },
        "outputId": "2b772aed-f7c0-478a-a24d-03fc1b79c10f"
      },
      "execution_count": null,
      "outputs": [
        {
          "output_type": "stream",
          "name": "stdout",
          "text": [
            "0% done\n",
            "0% done\n",
            "0% done\n",
            "0% done\n",
            "0% done\n",
            "0% done\n",
            "0% done\n",
            "0% done\n",
            "0% done\n",
            "0% done\n",
            "0% done\n",
            "0% done\n",
            "0% done\n",
            "0% done\n",
            "0% done\n",
            "0% done\n",
            "0% done\n",
            "0% done\n",
            "0% done\n",
            "0% done\n",
            "0% done\n",
            "0% done\n",
            "0% done\n",
            "0% done\n",
            "0% done\n",
            "0% done\n",
            "0% done\n",
            "0% done\n",
            "0% done\n",
            "0% done\n",
            "0% done\n",
            "0% done\n",
            "0% done\n",
            "0% done\n",
            "0% done\n",
            "0% done\n",
            "0% done\n",
            "0% done\n",
            "0% done\n",
            "0% done\n",
            "0% done\n",
            "0% done\n",
            "0% done\n",
            "0% done\n",
            "0% done\n",
            "0% done\n",
            "0% done\n",
            "0% done\n",
            "0% done\n"
          ]
        }
      ]
    },
    {
      "cell_type": "markdown",
      "source": [
        "単語IDが０の単語ベクトルを見てみる。"
      ],
      "metadata": {
        "id": "nNMqJHK6_9ps"
      }
    },
    {
      "cell_type": "code",
      "source": [
        "print(C[0]) #共起行列\n",
        "print(W[0]) #PPMI行列\n",
        "print(U[0]) #SVD"
      ],
      "metadata": {
        "colab": {
          "base_uri": "https://localhost:8080/"
        },
        "id": "HhKY0QGN_v72",
        "outputId": "163f328a-2775-459f-9f62-f0a84b82727e"
      },
      "execution_count": null,
      "outputs": [
        {
          "output_type": "stream",
          "name": "stdout",
          "text": [
            "[0 1 0 0 0 0 0]\n",
            "[0.    1.807 0.    0.    0.    0.    0.   ]\n",
            "[ 3.409e-01 -1.110e-16 -1.205e-01 -4.163e-16 -9.323e-01 -1.110e-16\n",
            " -2.426e-17]\n"
          ]
        }
      ]
    },
    {
      "cell_type": "markdown",
      "source": [
        "上の結果が示すとおり、元は疎なベクトルであったW[0]が、SVDによって密なベクトルU[0]に変換されている。  \n",
        "そして、この密なベクトルを次元削減するには、たとえば、それを２次元のベクトルに削減するのであれば、単に先頭の２つの要素を取り出す。"
      ],
      "metadata": {
        "id": "-6AMqczEAJBB"
      }
    },
    {
      "cell_type": "code",
      "source": [
        "print(U[0,:2])"
      ],
      "metadata": {
        "colab": {
          "base_uri": "https://localhost:8080/"
        },
        "id": "lgWSa8f9A5ST",
        "outputId": "65c7f5a4-823e-4068-9f02-a36aed104bd9"
      },
      "execution_count": null,
      "outputs": [
        {
          "output_type": "stream",
          "name": "stdout",
          "text": [
            "[ 3.409e-01 -1.110e-16]\n"
          ]
        }
      ]
    },
    {
      "cell_type": "markdown",
      "source": [
        "これで、次元削減は終わり。  \n",
        "最後に、各単語を２次元のベクトルで表し、それをグラフにプロットしてみる。"
      ],
      "metadata": {
        "id": "nNwUkMFKA9y8"
      }
    },
    {
      "cell_type": "code",
      "source": [
        "# plot\n",
        "for word, word_id in word_to_id.items():\n",
        "    plt.annotate(word, (U[word_id, 0], U[word_id, 1]))  #plt.annotate(word,x,y)：２次元のグラフ上の座標が(x,y)の地点にwordというテキストを描画\n",
        "plt.scatter(U[:,0], U[:,1], alpha=0.5)\n",
        "plt.show()"
      ],
      "metadata": {
        "colab": {
          "base_uri": "https://localhost:8080/",
          "height": 430
        },
        "id": "a3_aNPDB_p7n",
        "outputId": "e807c567-cd12-43f4-f7b2-b23c069201f8"
      },
      "execution_count": null,
      "outputs": [
        {
          "output_type": "display_data",
          "data": {
            "text/plain": [
              "<Figure size 640x480 with 1 Axes>"
            ],
            "image/png": "[encoded data removed]"
          },
          "metadata": {}
        }
      ]
    },
    {
      "cell_type": "markdown",
      "source": [
        "図2-11 共起行列に対してSVDを行い、各単語を２次元ベクトルにしてグラフにプロットする（※「i」と「goodbye」が重なっている）"
      ],
      "metadata": {
        "id": "cLW9ueRJBpeG"
      }
    },
    {
      "cell_type": "markdown",
      "source": [
        "このプロット図を見ると「goodbye」と「hello」、「you」と「i」が近い場所に位置することが分かる。  \n",
        "\n",
        "これは私たちの直感と比較的近い。\n",
        "しかし、ここでは小さなコーパスを使っている関係で、この結果は微妙なものである。  \n",
        "\n",
        "それでは続いてPTBデータセットという、より大きなコーパスを使って同じ実験を行う。"
      ],
      "metadata": {
        "id": "NkylWF9AB446"
      }
    },
    {
      "cell_type": "markdown",
      "source": [
        "###2.4.4　PTBデータセット\n",
        "これまで、とても小さなテキストデータをコーパスとして使用してきた。  \n",
        "ここでは、”本格的”なコーパス、それでいて大きすぎない手ごろなコーパスを利用する。  \n",
        "それは、Penn Treebankと呼ばれるコーパスである（以降PTBと略して表記）。"
      ],
      "metadata": {
        "id": "a_e_TKEzCd2T"
      }
    },
    {
      "cell_type": "markdown",
      "source": [
        "PTBコーパスはテキストファイルで提供されていて、元となるPTBに対してレアな単語を<unk>（unknownという意味）に置き換えたり、具体的な数字を「N」で置き換えるといった前処理が施されている。"
      ],
      "metadata": {
        "id": "XS4Shj2aFmfo"
      }
    },
    {
      "cell_type": "markdown",
      "source": [
        "まず、Google Colabでnltkをインストール。"
      ],
      "metadata": {
        "id": "dP5UcOpzXnDG"
      }
    },
    {
      "cell_type": "code",
      "source": [
        "pip install nltk"
      ],
      "metadata": {
        "colab": {
          "base_uri": "https://localhost:8080/"
        },
        "id": "nx0JgurH8vEX",
        "outputId": "4ff710b4-d1f2-46e6-aa1b-92dfe80d931c"
      },
      "execution_count": null,
      "outputs": [
        {
          "output_type": "stream",
          "name": "stdout",
          "text": [
            "Looking in indexes: https://pypi.org/simple, https://us-python.pkg.dev/colab-wheels/public/simple/\n",
            "Requirement already satisfied: nltk in /usr/local/lib/python3.9/dist-packages (3.8.1)\n",
            "Requirement already satisfied: tqdm in /usr/local/lib/python3.9/dist-packages (from nltk) (4.65.0)\n",
            "Requirement already satisfied: joblib in /usr/local/lib/python3.9/dist-packages (from nltk) (1.2.0)\n",
            "Requirement already satisfied: regex>=2021.8.3 in /usr/local/lib/python3.9/dist-packages (from nltk) (2022.10.31)\n",
            "Requirement already satisfied: click in /usr/local/lib/python3.9/dist-packages (from nltk) (8.1.3)\n"
          ]
        }
      ]
    },
    {
      "cell_type": "code",
      "source": [
        "import nltk\n",
        "nltk.download('treebank')\n",
        "from nltk.corpus import treebank\n",
        "\n",
        "# PTBデータセットを取得する\n",
        "ptb = ' '.join(treebank.words())\n",
        "\n",
        "# 前処理関数を実行する\n",
        "corpus, word_to_id, id_to_word = preprocess(ptb)\n",
        "\n",
        "print('corpus size:', len(corpus))\n",
        "print('corpus[:30]:', corpus[:30])\n",
        "print()\n",
        "print('id_to_word[0]:', id_to_word[0])\n",
        "print('id_to_word[1]:', id_to_word[1])\n",
        "print('id_to_word[2]:', id_to_word[2])\n",
        "print()\n",
        "print(\"word_to_id['car']:\", word_to_id['car'])\n",
        "print(\"word_to_id['happy']:\", word_to_id['happy'])\n",
        "print(\"word_to_id['board']:\", word_to_id['board'])"
      ],
      "metadata": {
        "colab": {
          "base_uri": "https://localhost:8080/"
        },
        "id": "LixK0FWx9aOg",
        "outputId": "75ec4a4c-c8cf-4e5f-ec4b-8c52961a7c71"
      },
      "execution_count": null,
      "outputs": [
        {
          "output_type": "stream",
          "name": "stderr",
          "text": [
            "[nltk_data] Downloading package treebank to /root/nltk_data...\n",
            "[nltk_data]   Package treebank is already up-to-date!\n"
          ]
        },
        {
          "output_type": "stream",
          "name": "stdout",
          "text": [
            "corpus size: 107024\n",
            "corpus[:30]: [ 0  1  2  3  4  5  2  6  7  8  9 10 11 12 13 14 15 16 17 15 18 15  1 19\n",
            " 20 21 22 23 24 15]\n",
            "\n",
            "id_to_word[0]: pierre\n",
            "id_to_word[1]: vinken\n",
            "id_to_word[2]: ,\n",
            "\n",
            "word_to_id['car']: 5556\n",
            "word_to_id['happy']: 6622\n",
            "word_to_id['board']: 9\n"
          ]
        }
      ]
    },
    {
      "cell_type": "markdown",
      "source": [
        "### 2.4.5 PTBデータセットでの評価\n",
        "\n",
        "大きな行列にSVDを行うため、より高速なsklearnモジュールをインストールして使う。\n",
        "\n",
        "sklearnのrandomized_svd()というメソッドを利用する。  \n",
        "これは、乱数を使ったTruncated SVDで、特異値の大きものだけに限定して計算することで、通常のSVDよりも高速な計算が行える。\n"
      ],
      "metadata": {
        "id": "6csv6vmF7A8L"
      }
    },
    {
      "cell_type": "code",
      "source": [
        "# 今まで作ってきた関数most_similar, cos_similarity, create_co_matrix, ppmiを使う。\n",
        "\n",
        "import numpy as np\n",
        "\n",
        "# PTBデータセットを取得する\n",
        "ptb = ' '.join(treebank.words())\n",
        "\n",
        "\n",
        "window_size = 2\n",
        "wordvec_size = 100\n",
        "\n",
        "corpus, word_to_id, id_to_word = preprocess(ptb)\n",
        "vocab_size = len(word_to_id)\n",
        "print('counting  co-occurrence ...')\n",
        "C = create_co_matrix(corpus, vocab_size, window_size)\n",
        "print('calculating PPMI ...')\n",
        "W = ppmi(C, verbose=True)\n",
        "\n",
        "print('calculating SVD ...')\n",
        "try:\n",
        "    # truncated SVD (fast!)\n",
        "    from sklearn.utils.extmath import randomized_svd\n",
        "    U, S, V = randomized_svd(W, n_components=wordvec_size, n_iter=5,\n",
        "                             random_state=None)\n",
        "except ImportError:\n",
        "    # SVD (slow)\n",
        "    U, S, V = np.linalg.svd(W)\n",
        "\n",
        "word_vecs = U[:, :wordvec_size]\n",
        "\n",
        "querys = ['you', 'year', 'car', 'nissan']\n",
        "for query in querys:\n",
        "    most_similar(query, word_to_id, id_to_word, word_vecs, top=5)"
      ],
      "metadata": {
        "colab": {
          "base_uri": "https://localhost:8080/"
        },
        "id": "3yPo31Jb_4TT",
        "outputId": "1c6bb778-7edb-45b2-add4-53e1af0b1c67"
      },
      "execution_count": null,
      "outputs": [
        {
          "output_type": "stream",
          "name": "stdout",
          "text": [
            "counting  co-occurrence ...\n",
            "calculating PPMI ...\n",
            "1% done\n",
            "2% done\n",
            "3% done\n",
            "4% done\n",
            "5% done\n",
            "6% done\n",
            "7% done\n",
            "8% done\n",
            "9% done\n",
            "10% done\n",
            "11% done\n",
            "12% done\n",
            "13% done\n",
            "14% done\n",
            "15% done\n",
            "16% done\n",
            "17% done\n",
            "18% done\n",
            "19% done\n",
            "20% done\n",
            "21% done\n",
            "22% done\n",
            "23% done\n",
            "24% done\n",
            "25% done\n",
            "26% done\n",
            "27% done\n",
            "28% done\n",
            "29% done\n",
            "30% done\n",
            "31% done\n",
            "32% done\n",
            "33% done\n",
            "34% done\n",
            "35% done\n",
            "36% done\n",
            "37% done\n",
            "38% done\n",
            "39% done\n",
            "40% done\n",
            "41% done\n",
            "42% done\n",
            "43% done\n",
            "44% done\n",
            "45% done\n",
            "46% done\n",
            "47% done\n",
            "48% done\n",
            "49% done\n",
            "50% done\n",
            "51% done\n",
            "52% done\n",
            "53% done\n",
            "54% done\n",
            "55% done\n",
            "56% done\n",
            "57% done\n",
            "58% done\n",
            "59% done\n",
            "60% done\n",
            "61% done\n",
            "62% done\n",
            "63% done\n",
            "64% done\n",
            "65% done\n",
            "66% done\n",
            "67% done\n",
            "68% done\n",
            "69% done\n",
            "70% done\n",
            "71% done\n",
            "72% done\n",
            "73% done\n",
            "74% done\n",
            "75% done\n",
            "76% done\n",
            "77% done\n",
            "78% done\n",
            "79% done\n",
            "80% done\n",
            "81% done\n",
            "82% done\n",
            "83% done\n",
            "84% done\n",
            "85% done\n",
            "86% done\n",
            "87% done\n",
            "88% done\n",
            "89% done\n",
            "90% done\n",
            "91% done\n",
            "92% done\n",
            "93% done\n",
            "94% done\n",
            "95% done\n",
            "96% done\n",
            "97% done\n",
            "98% done\n",
            "99% done\n",
            "calculating SVD ...\n",
            "\n",
            "[query] you\n",
            " stuff: 0.721226155757904\n",
            " we: 0.6969046592712402\n",
            " i: 0.6925188899040222\n",
            " flush: 0.6593688130378723\n",
            " lucky: 0.6560367941856384\n",
            "\n",
            "[query] year\n",
            " last: 0.8340386748313904\n",
            " next: 0.781298816204071\n",
            " week: 0.777616024017334\n",
            " march: 0.7258847951889038\n",
            " ending: 0.7223102450370789\n",
            "\n",
            "[query] car\n",
            " kidnapper: 0.49593856930732727\n",
            " routes: 0.4699854850769043\n",
            " bilingual: 0.4688420593738556\n",
            " stones: 0.4568299353122711\n",
            " eighth: 0.4563902020454407\n",
            "\n",
            "[query] nissan\n",
            " furukawa: 0.8009035587310791\n",
            " pencil: 0.7816594243049622\n",
            " heiwado: 0.7640044093132019\n",
            " ingersoll-rand: 0.7640042304992676\n",
            " middlesex: 0.7636003494262695\n"
          ]
        }
      ]
    },
    {
      "cell_type": "markdown",
      "source": [
        "「you」というクエリに対して、「we」や「i」の人称代名詞が上位を占めている。\n",
        "これは文法的な使い方の点で共通の単語である。\n",
        "\n",
        "また、「year」がクエリの場合は「week」などの類義語、「nissan」がクエリの場合は企業名が上位を占めている。\n",
        "\n",
        "このように、単語の意味的な点と文法的な点において似た単語同士が近いベクトルで表された。\n",
        "\n",
        "もっと大規模なコーパスを使用することで、より優れた単語の分散表現になることが期待できる。"
      ],
      "metadata": {
        "id": "5t81YLaUHyh4"
      }
    },
    {
      "cell_type": "markdown",
      "source": [
        "##2.5 まとめ\n",
        "本章では、自然言語処理を対象として、特に「単語の意味」をコンピュータに理解させることがテーマだった。  \n",
        "\n",
        "まず、シソーラスを用いた手法は、人の手によって一つづつ単語の関連性を定義する。  \n",
        "とても大変な作業であり、表現力の点で限界があった。  \n",
        "\n",
        "一方、カウントベースの手法は、コーパスから自動的に単語の意味を抽出し、それをベクトルで表す。  \n",
        "具体的には、単語の共起行列を作り、PPMI行列に変換し、ロバスト性を高めるために SVDによる次元削減を行い、各単語の分散表現を得た。  \n",
        "そして、その分散表現は、意味的に似た単語がベクトルの空間上で互いに近い場所にいることが確認できた。  \n"
      ],
      "metadata": {
        "id": "3ezKJe59GMVy"
      }
    }
  ]
}